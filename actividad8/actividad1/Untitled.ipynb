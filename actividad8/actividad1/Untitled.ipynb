{
 "cells": [
  {
   "cell_type": "code",
   "execution_count": 1,
   "metadata": {},
   "outputs": [],
   "source": [
    "import numpy as np\n",
    "def vectorfield(w, t, p):\n",
    "    \"\"\"\n",
    "    Defines the differential equations for the Van der Pol.\n",
    "\n",
    "    Arguments:\n",
    "        w :  vector of the state variables:\n",
    "                  w = [x,y]\n",
    "        t :  time\n",
    "        p :  vector of the parameters:\n",
    "                  \n",
    "    \"\"\"\n",
    "    x, y = w\n",
    "\n",
    "    # Create f = (x1',y1'):\n",
    "    f = [y, (m*(1-x**2)*y)-(x)]\n",
    "    return f"
   ]
  },
  {
   "cell_type": "code",
   "execution_count": null,
   "metadata": {},
   "outputs": [],
   "source": [
    "# Use ODEINT to solve the differential equations defined by the vector field\n",
    "from scipy.integrate import odeint\n",
    "numbers=[(1,2),(2,1)]\n",
    "for m in numbers\n",
    "#Coeficiente no lineal\n",
    "m = 2.0\n",
    "# Initial conditions\n",
    "# x1 and x2 are the initial displacements\n",
    "x = -3\n",
    "y = -3\n",
    "\n",
    "# ODE solver parameters\n",
    "abserr = 1.0e-8\n",
    "relerr = 1.0e-6\n",
    "stoptime = 300.0\n",
    "numpoints = 5000\n",
    "\n",
    "# Create the time samples for the output of the ODE solver.\n",
    "# I use a large number of points, only because I want to make\n",
    "# a plot of the solution that looks nice.\n",
    "t = [stoptime * float(i) / (numpoints - 1) for i in range(numpoints)]\n",
    "\n",
    "# Pack up the parameters and initial conditions:\n",
    "w0 = [x, y]\n",
    "\n",
    "\n",
    "numbers=[0.01,0.1,0.5,1.0,1.5,2.0,2.5,3.0,3.5,4.0]\n",
    "for m in numbers:\n",
    "# Call the ODE solver.\n",
    "    wsol=odeint(vectorfield, w0, t, args=(m,),\n",
    "              atol=abserr, rtol=relerr)\n",
    "    \n",
    "    with open('m'+str(m)+'.dat', 'w') as f:\n",
    "    # Print & save the solution.\n",
    "        for t1, w1 in zip(t, wsol):\n",
    "            print  (t1, w1[0], w1[1], file=f)"
   ]
  }
 ],
 "metadata": {
  "kernelspec": {
   "display_name": "Python 3",
   "language": "python",
   "name": "python3"
  },
  "language_info": {
   "codemirror_mode": {
    "name": "ipython",
    "version": 3
   },
   "file_extension": ".py",
   "mimetype": "text/x-python",
   "name": "python",
   "nbconvert_exporter": "python",
   "pygments_lexer": "ipython3",
   "version": "3.6.3"
  }
 },
 "nbformat": 4,
 "nbformat_minor": 2
}
