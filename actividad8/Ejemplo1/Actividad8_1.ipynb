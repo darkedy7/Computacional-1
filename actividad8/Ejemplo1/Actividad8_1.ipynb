{
 "cells": [
  {
   "cell_type": "code",
   "execution_count": 1,
   "metadata": {},
   "outputs": [],
   "source": [
    "import numpy as np\n",
    "def vectorfield(w, t, p):\n",
    "    \"\"\"\n",
    "    Defines the differential equations for the Van der Pol.\n",
    "\n",
    "    Arguments:\n",
    "        w :  vector of the state variables:\n",
    "                  w = [x,y]\n",
    "        t :  time\n",
    "        p :  vector of the parameters:\n",
    "                  \n",
    "    \"\"\"\n",
    "    x, y = w\n",
    "\n",
    "    # Create f = (x1',y1'):\n",
    "    f = [y, (m*(1-x**2)*y)-(x)]\n",
    "    return f"
   ]
  },
  {
   "cell_type": "code",
   "execution_count": 2,
   "metadata": {},
   "outputs": [],
   "source": [
    "# Use ODEINT to solve the differential equations defined by the vector field\n",
    "from scipy.integrate import odeint\n",
    "#Coeficiente no lineal\n",
    "m = 2.0\n",
    "# Initial conditions\n",
    "# x1 and x2 are the initial displacements\n",
    "#x = -3\n",
    "#y = -3\n",
    "\n",
    "# ODE solver parameters\n",
    "abserr = 1.0e-8\n",
    "relerr = 1.0e-6\n",
    "stoptime = 300.0\n",
    "numpoints = 5000\n",
    "\n",
    "# Create the time samples for the output of the ODE solver.\n",
    "# I use a large number of points, only because I want to make\n",
    "# a plot of the solution that looks nice.\n",
    "t = [stoptime * float(i) / (numpoints - 1) for i in range(numpoints)]\n",
    "\n",
    "# Pack up the parameters and initial conditions:\n",
    "        \n",
    "\n",
    "\n",
    "numbers=[(-3.0,-3.0),(-2.0,4.0),(-1.0,-2.0),(1.0,2.0)]\n",
    "for (x,y) in numbers:\n",
    "    # Call the ODE solver.\n",
    "    w0 = (x, y)\n",
    "    wsol=odeint(vectorfield, w0, t, args=(m,),\n",
    "                atol=abserr, rtol=relerr)\n",
    "    \n",
    "    with open('(x,y)'+str((x,y))+'.dat', 'w') as f:\n",
    "    # Print & save the solution.\n",
    "        for t1, w1 in zip(t, wsol):\n",
    "            print  (t1, w1[0], w1[1], file=f)"
   ]
  },
  {
   "cell_type": "code",
   "execution_count": 3,
   "metadata": {},
   "outputs": [
    {
     "data": {
      "image/png": "[encoded data removed]",
      "text/plain": [
       "<matplotlib.figure.Figure at 0x7ff3a81e3b70>"
      ]
     },
     "metadata": {},
     "output_type": "display_data"
    }
   ],
   "source": [
    "import numpy as np\n",
    "from matplotlib.font_manager import FontProperties\n",
    "import math\n",
    "import numpy as np\n",
    "import matplotlib.pyplot as mpl\n",
    "#Nueva Gráfica #Velocidad2 Vs Posición2\n",
    "import math\n",
    "import numpy as np\n",
    "from pylab import savefig\n",
    "import matplotlib.pyplot as mpl\n",
    "##############################\n",
    "##############################\n",
    "\n",
    "fig = mpl.figure()\n",
    "\n",
    "numbers=[(-3.0,-3.0),(-2.0,4.0),(-1.0,-2.0),(1.0,2.0)]\n",
    "for (x,y) in numbers:\n",
    "    t, x, y = np.loadtxt('(x,y)'+str((x,y))+'.dat', unpack=True)\n",
    "    mpl.plot(x,y,label=' for (x,y) in numbers') \n",
    "mpl.legend(loc='lower right')\n",
    "mpl.xlim(-6,6)\n",
    "mpl.ylim(-6,6)\n",
    "mpl.title('Velocidad2-Posición2/Tiempo')\n",
    "mpl.grid()\n",
    "mpl.savefig('xD.png', dpi=100)\n",
    "mpl.show()"
   ]
  },
  {
   "cell_type": "code",
   "execution_count": null,
   "metadata": {},
   "outputs": [],
   "source": []
  }
 ],
 "metadata": {
  "kernelspec": {
   "display_name": "Python 3",
   "language": "python",
   "name": "python3"
  },
  "language_info": {
   "codemirror_mode": {
    "name": "ipython",
    "version": 3
   },
   "file_extension": ".py",
   "mimetype": "text/x-python",
   "name": "python",
   "nbconvert_exporter": "python",
   "pygments_lexer": "ipython3",
   "version": "3.6.3"
  }
 },
 "nbformat": 4,
 "nbformat_minor": 2
}
