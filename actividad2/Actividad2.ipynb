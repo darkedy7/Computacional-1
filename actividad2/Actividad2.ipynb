{
 "cells": [
  {
   "cell_type": "code",
   "execution_count": 1,
   "metadata": {
    "collapsed": true
   },
   "outputs": [],
   "source": [
    "#cargar datos a panda para manejo de datos\n",
    "#cargar datos a numpy y a matplot\n",
    "#procura dar nombres cortos \n",
    "import pandas as pd\n",
    "import numpy as np\n",
    "import matplotlib.pyplot as mpl\n",
    "# shift+enter para procesar imformación de esta celda\n"
   ]
  },
  {
   "cell_type": "code",
   "execution_count": 2,
   "metadata": {
    "collapsed": true
   },
   "outputs": [],
   "source": [
    "# Descarga los datos de una estación del Servicio Meteorológico Nacional\n",
    "# http://smn1.conagua.gob.mx/emas/\n",
    "# Lee un archivo de texto con la función Pandas \"read_csv\", con elementos separados por mas de \n",
    "# un espacio, brincándose 4 renglones del inicio (encabezados)\n",
    "df0 = pd.read_csv('veracruz2.txt', skiprows=4, sep='\\s+')\n",
    "# \"Shift + Enter\"\n"
   ]
  },
  {
   "cell_type": "code",
   "execution_count": 3,
   "metadata": {},
   "outputs": [
    {
     "data": {
      "text/html": [
       "<div>\n",
       "<style>\n",
       "    .dataframe thead tr:only-child th {\n",
       "        text-align: right;\n",
       "    }\n",
       "\n",
       "    .dataframe thead th {\n",
       "        text-align: left;\n",
       "    }\n",
       "\n",
       "    .dataframe tbody tr th {\n",
       "        vertical-align: top;\n",
       "    }\n",
       "</style>\n",
       "<table border=\"1\" class=\"dataframe\">\n",
       "  <thead>\n",
       "    <tr style=\"text-align: right;\">\n",
       "      <th></th>\n",
       "      <th>DD/MM/AAAA</th>\n",
       "      <th>HH:MM</th>\n",
       "      <th>DIRS</th>\n",
       "      <th>DIRR</th>\n",
       "      <th>VELS</th>\n",
       "      <th>VELR</th>\n",
       "      <th>TEMP</th>\n",
       "      <th>HR</th>\n",
       "      <th>PB</th>\n",
       "      <th>PREC</th>\n",
       "      <th>RADSOL</th>\n",
       "    </tr>\n",
       "  </thead>\n",
       "  <tbody>\n",
       "    <tr>\n",
       "      <th>0</th>\n",
       "      <td>26/01/2018</td>\n",
       "      <td>17:00</td>\n",
       "      <td>354</td>\n",
       "      <td>344</td>\n",
       "      <td>6.34</td>\n",
       "      <td>14.0</td>\n",
       "      <td>13.4</td>\n",
       "      <td>98</td>\n",
       "      <td>852.1</td>\n",
       "      <td>0.0</td>\n",
       "      <td>201.7</td>\n",
       "    </tr>\n",
       "    <tr>\n",
       "      <th>1</th>\n",
       "      <td>26/01/2018</td>\n",
       "      <td>18:00</td>\n",
       "      <td>342</td>\n",
       "      <td>338</td>\n",
       "      <td>7.88</td>\n",
       "      <td>15.3</td>\n",
       "      <td>12.5</td>\n",
       "      <td>100</td>\n",
       "      <td>851.3</td>\n",
       "      <td>0.0</td>\n",
       "      <td>123.2</td>\n",
       "    </tr>\n",
       "    <tr>\n",
       "      <th>2</th>\n",
       "      <td>26/01/2018</td>\n",
       "      <td>19:00</td>\n",
       "      <td>10</td>\n",
       "      <td>357</td>\n",
       "      <td>3.87</td>\n",
       "      <td>13.1</td>\n",
       "      <td>12.3</td>\n",
       "      <td>100</td>\n",
       "      <td>850.7</td>\n",
       "      <td>0.0</td>\n",
       "      <td>126.2</td>\n",
       "    </tr>\n",
       "    <tr>\n",
       "      <th>3</th>\n",
       "      <td>26/01/2018</td>\n",
       "      <td>20:00</td>\n",
       "      <td>10</td>\n",
       "      <td>359</td>\n",
       "      <td>4.38</td>\n",
       "      <td>13.6</td>\n",
       "      <td>12.8</td>\n",
       "      <td>100</td>\n",
       "      <td>849.7</td>\n",
       "      <td>0.0</td>\n",
       "      <td>151.2</td>\n",
       "    </tr>\n",
       "    <tr>\n",
       "      <th>4</th>\n",
       "      <td>26/01/2018</td>\n",
       "      <td>21:00</td>\n",
       "      <td>18</td>\n",
       "      <td>356</td>\n",
       "      <td>4.89</td>\n",
       "      <td>11.9</td>\n",
       "      <td>12.2</td>\n",
       "      <td>100</td>\n",
       "      <td>849.2</td>\n",
       "      <td>0.2</td>\n",
       "      <td>75.7</td>\n",
       "    </tr>\n",
       "  </tbody>\n",
       "</table>\n",
       "</div>"
      ],
      "text/plain": [
       "   DD/MM/AAAA  HH:MM  DIRS  DIRR  VELS  VELR  TEMP   HR     PB  PREC  RADSOL\n",
       "0  26/01/2018  17:00   354   344  6.34  14.0  13.4   98  852.1   0.0   201.7\n",
       "1  26/01/2018  18:00   342   338  7.88  15.3  12.5  100  851.3   0.0   123.2\n",
       "2  26/01/2018  19:00    10   357  3.87  13.1  12.3  100  850.7   0.0   126.2\n",
       "3  26/01/2018  20:00    10   359  4.38  13.6  12.8  100  849.7   0.0   151.2\n",
       "4  26/01/2018  21:00    18   356  4.89  11.9  12.2  100  849.2   0.2    75.7"
      ]
     },
     "execution_count": 3,
     "metadata": {},
     "output_type": "execute_result"
    }
   ],
   "source": [
    "# Lee los primeros 5 renglones del archivo\n",
    "# puedes elegir el número de renglones a leer, este deberá ir dentro del parentesis\n",
    "#que acompaña al comando \"df0.head()\", si no especificas, por default tendrás \n",
    "#5 renglones\n",
    "df0.head()\n",
    "# \"Shift+Enter\""
   ]
  },
  {
   "cell_type": "code",
   "execution_count": 4,
   "metadata": {
    "collapsed": true
   },
   "outputs": [],
   "source": [
    "# Dar estructura de datos (DataFrame)\n",
    "df = pd.DataFrame(df0)"
   ]
  },
  {
   "cell_type": "code",
   "execution_count": 5,
   "metadata": {},
   "outputs": [
    {
     "data": {
      "text/plain": [
       "DD/MM/AAAA     object\n",
       "HH:MM          object\n",
       "DIRS            int64\n",
       "DIRR            int64\n",
       "VELS          float64\n",
       "VELR          float64\n",
       "TEMP          float64\n",
       "HR              int64\n",
       "PB            float64\n",
       "PREC          float64\n",
       "RADSOL        float64\n",
       "dtype: object"
      ]
     },
     "execution_count": 5,
     "metadata": {},
     "output_type": "execute_result"
    }
   ],
   "source": [
    "# Ver los tipos de datos que Pandas ha reconocido al leer\n",
    "df.dtypes"
   ]
  },
  {
   "cell_type": "code",
   "execution_count": 6,
   "metadata": {
    "collapsed": true
   },
   "outputs": [],
   "source": [
    "# Combinar las columnas \"DD/MM/AAAA\" con \"HH:MM\" y convertirla a variable de tiempo\n",
    "# Se crea una nueva columna \"Fecha\" al final con formato de tiempo.\n",
    "# Eliminamos las dos primeras columnas que ya no necesitaremos\n",
    "df['FECHA'] = pd.to_datetime(df.apply(lambda x: x['DD/MM/AAAA'] + ' ' + x['HH:MM'], 1), dayfirst=True)\n",
    "df = df.drop(['DD/MM/AAAA', 'HH:MM'], 1)"
   ]
  },
  {
   "cell_type": "code",
   "execution_count": 7,
   "metadata": {},
   "outputs": [
    {
     "data": {
      "text/html": [
       "<div>\n",
       "<style>\n",
       "    .dataframe thead tr:only-child th {\n",
       "        text-align: right;\n",
       "    }\n",
       "\n",
       "    .dataframe thead th {\n",
       "        text-align: left;\n",
       "    }\n",
       "\n",
       "    .dataframe tbody tr th {\n",
       "        vertical-align: top;\n",
       "    }\n",
       "</style>\n",
       "<table border=\"1\" class=\"dataframe\">\n",
       "  <thead>\n",
       "    <tr style=\"text-align: right;\">\n",
       "      <th></th>\n",
       "      <th>DIRS</th>\n",
       "      <th>DIRR</th>\n",
       "      <th>VELS</th>\n",
       "      <th>VELR</th>\n",
       "      <th>TEMP</th>\n",
       "      <th>HR</th>\n",
       "      <th>PB</th>\n",
       "      <th>PREC</th>\n",
       "      <th>RADSOL</th>\n",
       "      <th>FECHA</th>\n",
       "    </tr>\n",
       "  </thead>\n",
       "  <tbody>\n",
       "    <tr>\n",
       "      <th>0</th>\n",
       "      <td>354</td>\n",
       "      <td>344</td>\n",
       "      <td>6.34</td>\n",
       "      <td>14.0</td>\n",
       "      <td>13.4</td>\n",
       "      <td>98</td>\n",
       "      <td>852.1</td>\n",
       "      <td>0.0</td>\n",
       "      <td>201.7</td>\n",
       "      <td>2018-01-26 17:00:00</td>\n",
       "    </tr>\n",
       "    <tr>\n",
       "      <th>1</th>\n",
       "      <td>342</td>\n",
       "      <td>338</td>\n",
       "      <td>7.88</td>\n",
       "      <td>15.3</td>\n",
       "      <td>12.5</td>\n",
       "      <td>100</td>\n",
       "      <td>851.3</td>\n",
       "      <td>0.0</td>\n",
       "      <td>123.2</td>\n",
       "      <td>2018-01-26 18:00:00</td>\n",
       "    </tr>\n",
       "    <tr>\n",
       "      <th>2</th>\n",
       "      <td>10</td>\n",
       "      <td>357</td>\n",
       "      <td>3.87</td>\n",
       "      <td>13.1</td>\n",
       "      <td>12.3</td>\n",
       "      <td>100</td>\n",
       "      <td>850.7</td>\n",
       "      <td>0.0</td>\n",
       "      <td>126.2</td>\n",
       "      <td>2018-01-26 19:00:00</td>\n",
       "    </tr>\n",
       "    <tr>\n",
       "      <th>3</th>\n",
       "      <td>10</td>\n",
       "      <td>359</td>\n",
       "      <td>4.38</td>\n",
       "      <td>13.6</td>\n",
       "      <td>12.8</td>\n",
       "      <td>100</td>\n",
       "      <td>849.7</td>\n",
       "      <td>0.0</td>\n",
       "      <td>151.2</td>\n",
       "      <td>2018-01-26 20:00:00</td>\n",
       "    </tr>\n",
       "    <tr>\n",
       "      <th>4</th>\n",
       "      <td>18</td>\n",
       "      <td>356</td>\n",
       "      <td>4.89</td>\n",
       "      <td>11.9</td>\n",
       "      <td>12.2</td>\n",
       "      <td>100</td>\n",
       "      <td>849.2</td>\n",
       "      <td>0.2</td>\n",
       "      <td>75.7</td>\n",
       "      <td>2018-01-26 21:00:00</td>\n",
       "    </tr>\n",
       "  </tbody>\n",
       "</table>\n",
       "</div>"
      ],
      "text/plain": [
       "   DIRS  DIRR  VELS  VELR  TEMP   HR     PB  PREC  RADSOL               FECHA\n",
       "0   354   344  6.34  14.0  13.4   98  852.1   0.0   201.7 2018-01-26 17:00:00\n",
       "1   342   338  7.88  15.3  12.5  100  851.3   0.0   123.2 2018-01-26 18:00:00\n",
       "2    10   357  3.87  13.1  12.3  100  850.7   0.0   126.2 2018-01-26 19:00:00\n",
       "3    10   359  4.38  13.6  12.8  100  849.7   0.0   151.2 2018-01-26 20:00:00\n",
       "4    18   356  4.89  11.9  12.2  100  849.2   0.2    75.7 2018-01-26 21:00:00"
      ]
     },
     "execution_count": 7,
     "metadata": {},
     "output_type": "execute_result"
    }
   ],
   "source": [
    "df.head()"
   ]
  },
  {
   "cell_type": "code",
   "execution_count": 8,
   "metadata": {},
   "outputs": [
    {
     "data": {
      "text/html": [
       "<div>\n",
       "<style>\n",
       "    .dataframe thead tr:only-child th {\n",
       "        text-align: right;\n",
       "    }\n",
       "\n",
       "    .dataframe thead th {\n",
       "        text-align: left;\n",
       "    }\n",
       "\n",
       "    .dataframe tbody tr th {\n",
       "        vertical-align: top;\n",
       "    }\n",
       "</style>\n",
       "<table border=\"1\" class=\"dataframe\">\n",
       "  <thead>\n",
       "    <tr style=\"text-align: right;\">\n",
       "      <th></th>\n",
       "      <th>DIRS</th>\n",
       "      <th>DIRR</th>\n",
       "      <th>VELS</th>\n",
       "      <th>VELR</th>\n",
       "      <th>TEMP</th>\n",
       "      <th>HR</th>\n",
       "      <th>PB</th>\n",
       "      <th>PREC</th>\n",
       "      <th>RADSOL</th>\n",
       "    </tr>\n",
       "  </thead>\n",
       "  <tbody>\n",
       "    <tr>\n",
       "      <th>count</th>\n",
       "      <td>165.000000</td>\n",
       "      <td>165.000000</td>\n",
       "      <td>165.000000</td>\n",
       "      <td>165.000000</td>\n",
       "      <td>165.000000</td>\n",
       "      <td>165.000000</td>\n",
       "      <td>165.000000</td>\n",
       "      <td>165.000000</td>\n",
       "      <td>165.000000</td>\n",
       "    </tr>\n",
       "    <tr>\n",
       "      <th>mean</th>\n",
       "      <td>175.048485</td>\n",
       "      <td>265.593939</td>\n",
       "      <td>3.401333</td>\n",
       "      <td>10.003636</td>\n",
       "      <td>9.957576</td>\n",
       "      <td>94.775758</td>\n",
       "      <td>851.640606</td>\n",
       "      <td>0.935758</td>\n",
       "      <td>105.226667</td>\n",
       "    </tr>\n",
       "    <tr>\n",
       "      <th>std</th>\n",
       "      <td>133.732843</td>\n",
       "      <td>105.569761</td>\n",
       "      <td>2.493261</td>\n",
       "      <td>6.068802</td>\n",
       "      <td>4.438209</td>\n",
       "      <td>12.471114</td>\n",
       "      <td>2.999591</td>\n",
       "      <td>2.349778</td>\n",
       "      <td>199.403468</td>\n",
       "    </tr>\n",
       "    <tr>\n",
       "      <th>min</th>\n",
       "      <td>0.000000</td>\n",
       "      <td>25.000000</td>\n",
       "      <td>0.140000</td>\n",
       "      <td>2.400000</td>\n",
       "      <td>0.900000</td>\n",
       "      <td>41.000000</td>\n",
       "      <td>847.400000</td>\n",
       "      <td>0.000000</td>\n",
       "      <td>0.000000</td>\n",
       "    </tr>\n",
       "    <tr>\n",
       "      <th>25%</th>\n",
       "      <td>24.000000</td>\n",
       "      <td>216.000000</td>\n",
       "      <td>1.380000</td>\n",
       "      <td>5.000000</td>\n",
       "      <td>6.200000</td>\n",
       "      <td>98.000000</td>\n",
       "      <td>849.400000</td>\n",
       "      <td>0.000000</td>\n",
       "      <td>0.000000</td>\n",
       "    </tr>\n",
       "    <tr>\n",
       "      <th>50%</th>\n",
       "      <td>194.000000</td>\n",
       "      <td>319.000000</td>\n",
       "      <td>2.570000</td>\n",
       "      <td>8.100000</td>\n",
       "      <td>10.200000</td>\n",
       "      <td>100.000000</td>\n",
       "      <td>850.700000</td>\n",
       "      <td>0.000000</td>\n",
       "      <td>0.000000</td>\n",
       "    </tr>\n",
       "    <tr>\n",
       "      <th>75%</th>\n",
       "      <td>309.000000</td>\n",
       "      <td>358.000000</td>\n",
       "      <td>4.970000</td>\n",
       "      <td>14.200000</td>\n",
       "      <td>12.300000</td>\n",
       "      <td>100.000000</td>\n",
       "      <td>853.400000</td>\n",
       "      <td>0.000000</td>\n",
       "      <td>122.000000</td>\n",
       "    </tr>\n",
       "    <tr>\n",
       "      <th>max</th>\n",
       "      <td>358.000000</td>\n",
       "      <td>360.000000</td>\n",
       "      <td>12.450000</td>\n",
       "      <td>27.500000</td>\n",
       "      <td>23.900000</td>\n",
       "      <td>100.000000</td>\n",
       "      <td>859.200000</td>\n",
       "      <td>12.800000</td>\n",
       "      <td>881.300000</td>\n",
       "    </tr>\n",
       "  </tbody>\n",
       "</table>\n",
       "</div>"
      ],
      "text/plain": [
       "             DIRS        DIRR        VELS        VELR        TEMP          HR  \\\n",
       "count  165.000000  165.000000  165.000000  165.000000  165.000000  165.000000   \n",
       "mean   175.048485  265.593939    3.401333   10.003636    9.957576   94.775758   \n",
       "std    133.732843  105.569761    2.493261    6.068802    4.438209   12.471114   \n",
       "min      0.000000   25.000000    0.140000    2.400000    0.900000   41.000000   \n",
       "25%     24.000000  216.000000    1.380000    5.000000    6.200000   98.000000   \n",
       "50%    194.000000  319.000000    2.570000    8.100000   10.200000  100.000000   \n",
       "75%    309.000000  358.000000    4.970000   14.200000   12.300000  100.000000   \n",
       "max    358.000000  360.000000   12.450000   27.500000   23.900000  100.000000   \n",
       "\n",
       "               PB        PREC      RADSOL  \n",
       "count  165.000000  165.000000  165.000000  \n",
       "mean   851.640606    0.935758  105.226667  \n",
       "std      2.999591    2.349778  199.403468  \n",
       "min    847.400000    0.000000    0.000000  \n",
       "25%    849.400000    0.000000    0.000000  \n",
       "50%    850.700000    0.000000    0.000000  \n",
       "75%    853.400000    0.000000  122.000000  \n",
       "max    859.200000   12.800000  881.300000  "
      ]
     },
     "execution_count": 8,
     "metadata": {},
     "output_type": "execute_result"
    }
   ],
   "source": [
    "# Realiza un análisis exploratorio de datos\n",
    "df.describe()"
   ]
  },
  {
   "cell_type": "code",
   "execution_count": 9,
   "metadata": {},
   "outputs": [
    {
     "data": {
      "text/html": [
       "<div>\n",
       "<style>\n",
       "    .dataframe thead tr:only-child th {\n",
       "        text-align: right;\n",
       "    }\n",
       "\n",
       "    .dataframe thead th {\n",
       "        text-align: left;\n",
       "    }\n",
       "\n",
       "    .dataframe tbody tr th {\n",
       "        vertical-align: top;\n",
       "    }\n",
       "</style>\n",
       "<table border=\"1\" class=\"dataframe\">\n",
       "  <thead>\n",
       "    <tr style=\"text-align: right;\">\n",
       "      <th></th>\n",
       "      <th>DIRS</th>\n",
       "      <th>DIRR</th>\n",
       "      <th>VELS</th>\n",
       "      <th>VELR</th>\n",
       "      <th>TEMP</th>\n",
       "      <th>HR</th>\n",
       "      <th>PB</th>\n",
       "      <th>PREC</th>\n",
       "      <th>RADSOL</th>\n",
       "      <th>FECHA</th>\n",
       "    </tr>\n",
       "  </thead>\n",
       "  <tbody>\n",
       "    <tr>\n",
       "      <th>87</th>\n",
       "      <td>224</td>\n",
       "      <td>252</td>\n",
       "      <td>2.30</td>\n",
       "      <td>7.5</td>\n",
       "      <td>4.4</td>\n",
       "      <td>100</td>\n",
       "      <td>856.7</td>\n",
       "      <td>0.0</td>\n",
       "      <td>0.0</td>\n",
       "      <td>2018-01-30 08:00:00</td>\n",
       "    </tr>\n",
       "    <tr>\n",
       "      <th>88</th>\n",
       "      <td>305</td>\n",
       "      <td>236</td>\n",
       "      <td>1.16</td>\n",
       "      <td>4.5</td>\n",
       "      <td>4.0</td>\n",
       "      <td>100</td>\n",
       "      <td>855.9</td>\n",
       "      <td>0.0</td>\n",
       "      <td>0.0</td>\n",
       "      <td>2018-01-30 09:00:00</td>\n",
       "    </tr>\n",
       "    <tr>\n",
       "      <th>89</th>\n",
       "      <td>219</td>\n",
       "      <td>228</td>\n",
       "      <td>2.46</td>\n",
       "      <td>6.0</td>\n",
       "      <td>2.8</td>\n",
       "      <td>100</td>\n",
       "      <td>855.6</td>\n",
       "      <td>0.0</td>\n",
       "      <td>0.0</td>\n",
       "      <td>2018-01-30 10:00:00</td>\n",
       "    </tr>\n",
       "    <tr>\n",
       "      <th>90</th>\n",
       "      <td>297</td>\n",
       "      <td>229</td>\n",
       "      <td>1.69</td>\n",
       "      <td>5.1</td>\n",
       "      <td>1.9</td>\n",
       "      <td>100</td>\n",
       "      <td>855.8</td>\n",
       "      <td>0.2</td>\n",
       "      <td>0.0</td>\n",
       "      <td>2018-01-30 11:00:00</td>\n",
       "    </tr>\n",
       "    <tr>\n",
       "      <th>91</th>\n",
       "      <td>45</td>\n",
       "      <td>223</td>\n",
       "      <td>0.78</td>\n",
       "      <td>4.8</td>\n",
       "      <td>1.2</td>\n",
       "      <td>100</td>\n",
       "      <td>856.3</td>\n",
       "      <td>0.0</td>\n",
       "      <td>0.0</td>\n",
       "      <td>2018-01-30 12:00:00</td>\n",
       "    </tr>\n",
       "    <tr>\n",
       "      <th>92</th>\n",
       "      <td>336</td>\n",
       "      <td>360</td>\n",
       "      <td>1.04</td>\n",
       "      <td>8.9</td>\n",
       "      <td>0.9</td>\n",
       "      <td>100</td>\n",
       "      <td>856.6</td>\n",
       "      <td>0.0</td>\n",
       "      <td>22.3</td>\n",
       "      <td>2018-01-30 13:00:00</td>\n",
       "    </tr>\n",
       "    <tr>\n",
       "      <th>93</th>\n",
       "      <td>21</td>\n",
       "      <td>359</td>\n",
       "      <td>0.65</td>\n",
       "      <td>10.8</td>\n",
       "      <td>3.6</td>\n",
       "      <td>99</td>\n",
       "      <td>856.8</td>\n",
       "      <td>0.0</td>\n",
       "      <td>167.3</td>\n",
       "      <td>2018-01-30 14:00:00</td>\n",
       "    </tr>\n",
       "    <tr>\n",
       "      <th>114</th>\n",
       "      <td>220</td>\n",
       "      <td>294</td>\n",
       "      <td>0.50</td>\n",
       "      <td>3.5</td>\n",
       "      <td>4.1</td>\n",
       "      <td>100</td>\n",
       "      <td>850.5</td>\n",
       "      <td>0.0</td>\n",
       "      <td>0.0</td>\n",
       "      <td>2018-01-31 11:00:00</td>\n",
       "    </tr>\n",
       "    <tr>\n",
       "      <th>115</th>\n",
       "      <td>203</td>\n",
       "      <td>210</td>\n",
       "      <td>2.22</td>\n",
       "      <td>4.5</td>\n",
       "      <td>2.9</td>\n",
       "      <td>100</td>\n",
       "      <td>850.5</td>\n",
       "      <td>0.0</td>\n",
       "      <td>0.0</td>\n",
       "      <td>2018-01-31 12:00:00</td>\n",
       "    </tr>\n",
       "    <tr>\n",
       "      <th>116</th>\n",
       "      <td>200</td>\n",
       "      <td>356</td>\n",
       "      <td>1.27</td>\n",
       "      <td>4.7</td>\n",
       "      <td>2.5</td>\n",
       "      <td>100</td>\n",
       "      <td>850.8</td>\n",
       "      <td>0.0</td>\n",
       "      <td>10.5</td>\n",
       "      <td>2018-01-31 13:00:00</td>\n",
       "    </tr>\n",
       "    <tr>\n",
       "      <th>117</th>\n",
       "      <td>101</td>\n",
       "      <td>86</td>\n",
       "      <td>1.77</td>\n",
       "      <td>4.4</td>\n",
       "      <td>4.8</td>\n",
       "      <td>100</td>\n",
       "      <td>850.7</td>\n",
       "      <td>0.0</td>\n",
       "      <td>192.2</td>\n",
       "      <td>2018-01-31 14:00:00</td>\n",
       "    </tr>\n",
       "    <tr>\n",
       "      <th>132</th>\n",
       "      <td>202</td>\n",
       "      <td>246</td>\n",
       "      <td>1.09</td>\n",
       "      <td>4.0</td>\n",
       "      <td>4.7</td>\n",
       "      <td>100</td>\n",
       "      <td>848.9</td>\n",
       "      <td>0.0</td>\n",
       "      <td>0.0</td>\n",
       "      <td>2018-02-01 05:00:00</td>\n",
       "    </tr>\n",
       "    <tr>\n",
       "      <th>133</th>\n",
       "      <td>178</td>\n",
       "      <td>229</td>\n",
       "      <td>0.91</td>\n",
       "      <td>3.4</td>\n",
       "      <td>4.4</td>\n",
       "      <td>100</td>\n",
       "      <td>848.9</td>\n",
       "      <td>0.0</td>\n",
       "      <td>0.0</td>\n",
       "      <td>2018-02-01 06:00:00</td>\n",
       "    </tr>\n",
       "    <tr>\n",
       "      <th>134</th>\n",
       "      <td>209</td>\n",
       "      <td>238</td>\n",
       "      <td>1.38</td>\n",
       "      <td>3.4</td>\n",
       "      <td>4.4</td>\n",
       "      <td>100</td>\n",
       "      <td>848.6</td>\n",
       "      <td>0.0</td>\n",
       "      <td>0.0</td>\n",
       "      <td>2018-02-01 07:00:00</td>\n",
       "    </tr>\n",
       "    <tr>\n",
       "      <th>135</th>\n",
       "      <td>181</td>\n",
       "      <td>232</td>\n",
       "      <td>1.89</td>\n",
       "      <td>4.2</td>\n",
       "      <td>4.5</td>\n",
       "      <td>100</td>\n",
       "      <td>848.0</td>\n",
       "      <td>0.0</td>\n",
       "      <td>0.0</td>\n",
       "      <td>2018-02-01 08:00:00</td>\n",
       "    </tr>\n",
       "    <tr>\n",
       "      <th>164</th>\n",
       "      <td>291</td>\n",
       "      <td>208</td>\n",
       "      <td>0.66</td>\n",
       "      <td>3.2</td>\n",
       "      <td>4.9</td>\n",
       "      <td>100</td>\n",
       "      <td>853.1</td>\n",
       "      <td>0.0</td>\n",
       "      <td>12.0</td>\n",
       "      <td>2018-02-02 13:00:00</td>\n",
       "    </tr>\n",
       "  </tbody>\n",
       "</table>\n",
       "</div>"
      ],
      "text/plain": [
       "     DIRS  DIRR  VELS  VELR  TEMP   HR     PB  PREC  RADSOL  \\\n",
       "87    224   252  2.30   7.5   4.4  100  856.7   0.0     0.0   \n",
       "88    305   236  1.16   4.5   4.0  100  855.9   0.0     0.0   \n",
       "89    219   228  2.46   6.0   2.8  100  855.6   0.0     0.0   \n",
       "90    297   229  1.69   5.1   1.9  100  855.8   0.2     0.0   \n",
       "91     45   223  0.78   4.8   1.2  100  856.3   0.0     0.0   \n",
       "92    336   360  1.04   8.9   0.9  100  856.6   0.0    22.3   \n",
       "93     21   359  0.65  10.8   3.6   99  856.8   0.0   167.3   \n",
       "114   220   294  0.50   3.5   4.1  100  850.5   0.0     0.0   \n",
       "115   203   210  2.22   4.5   2.9  100  850.5   0.0     0.0   \n",
       "116   200   356  1.27   4.7   2.5  100  850.8   0.0    10.5   \n",
       "117   101    86  1.77   4.4   4.8  100  850.7   0.0   192.2   \n",
       "132   202   246  1.09   4.0   4.7  100  848.9   0.0     0.0   \n",
       "133   178   229  0.91   3.4   4.4  100  848.9   0.0     0.0   \n",
       "134   209   238  1.38   3.4   4.4  100  848.6   0.0     0.0   \n",
       "135   181   232  1.89   4.2   4.5  100  848.0   0.0     0.0   \n",
       "164   291   208  0.66   3.2   4.9  100  853.1   0.0    12.0   \n",
       "\n",
       "                  FECHA  \n",
       "87  2018-01-30 08:00:00  \n",
       "88  2018-01-30 09:00:00  \n",
       "89  2018-01-30 10:00:00  \n",
       "90  2018-01-30 11:00:00  \n",
       "91  2018-01-30 12:00:00  \n",
       "92  2018-01-30 13:00:00  \n",
       "93  2018-01-30 14:00:00  \n",
       "114 2018-01-31 11:00:00  \n",
       "115 2018-01-31 12:00:00  \n",
       "116 2018-01-31 13:00:00  \n",
       "117 2018-01-31 14:00:00  \n",
       "132 2018-02-01 05:00:00  \n",
       "133 2018-02-01 06:00:00  \n",
       "134 2018-02-01 07:00:00  \n",
       "135 2018-02-01 08:00:00  \n",
       "164 2018-02-02 13:00:00  "
      ]
     },
     "execution_count": 9,
     "metadata": {},
     "output_type": "execute_result"
    }
   ],
   "source": [
    "# Selecciona los renglones con Temperatura > 24ºC y < 25ºC\n",
    "df_tmp = df[df.TEMP > 0] \n",
    "df_select = df_tmp[df_tmp.TEMP < 5]\n",
    "df_select"
   ]
  },
  {
   "cell_type": "code",
   "execution_count": 10,
   "metadata": {},
   "outputs": [
    {
     "data": {
      "text/plain": [
       "DIRS      175.048485\n",
       "DIRR      265.593939\n",
       "VELS        3.401333\n",
       "VELR       10.003636\n",
       "TEMP        9.957576\n",
       "HR         94.775758\n",
       "PB        851.640606\n",
       "PREC        0.935758\n",
       "RADSOL    105.226667\n",
       "dtype: float64"
      ]
     },
     "execution_count": 10,
     "metadata": {},
     "output_type": "execute_result"
    }
   ],
   "source": [
    "# Calcula el promedio de las columnas, excepto en la FECHA (que no tendría sentido)\n",
    "df.mean()\n"
   ]
  },
  {
   "cell_type": "code",
   "execution_count": 11,
   "metadata": {},
   "outputs": [
    {
     "data": {
      "text/plain": [
       "9.957575757575762"
      ]
     },
     "execution_count": 11,
     "metadata": {},
     "output_type": "execute_result"
    }
   ],
   "source": [
    "df.TEMP.mean()"
   ]
  },
  {
   "cell_type": "code",
   "execution_count": 12,
   "metadata": {
    "collapsed": true
   },
   "outputs": [],
   "source": [
    "#recuerda que cambiaste el plt por mpl al inicio."
   ]
  },
  {
   "cell_type": "code",
   "execution_count": 13,
   "metadata": {},
   "outputs": [
    {
     "data": {
      "image/png": "[encoded data removed]",
      "text/plain": [
       "<matplotlib.figure.Figure at 0x7fdf8ccffb38>"
      ]
     },
     "metadata": {},
     "output_type": "display_data"
    }
   ],
   "source": [
    "# Gráfica de la rapidez de los vientos (m/s) \n",
    "mpl.figure(); df.VELS.plot(); mpl.legend(loc='best')\n",
    "mpl.title(\"Variación de la Rapidez de los Vientos\")\n",
    "mpl.ylabel(\"Rapidez (m/s)\")\n",
    "mpl.grid(True)#esto nos permite poner la cuadrícula\n",
    "mpl.show()"
   ]
  },
  {
   "cell_type": "code",
   "execution_count": 14,
   "metadata": {},
   "outputs": [
    {
     "data": {
      "text/plain": [
       "<matplotlib.figure.Figure at 0x7fdf859c87b8>"
      ]
     },
     "metadata": {},
     "output_type": "display_data"
    },
    {
     "data": {
      "image/png": "[encoded data removed]",
      "text/plain": [
       "<matplotlib.figure.Figure at 0x7fdf859b7ba8>"
      ]
     },
     "metadata": {},
     "output_type": "display_data"
    }
   ],
   "source": [
    "# Gráfica de Temperatura y Humedad Relativa\n",
    "df1 = df[['TEMP','HR']]\n",
    "mpl.figure(); df1.plot(); mpl.legend(loc='best')\n",
    "mpl.title(\"Variación de la Temperatura y la Humedad Relativa\")\n",
    "mpl.ylabel(\"Temp ºC /(%) HR\")\n",
    "mpl.grid(True)\n",
    "mpl.show()"
   ]
  },
  {
   "cell_type": "code",
   "execution_count": 27,
   "metadata": {
    "scrolled": true
   },
   "outputs": [
    {
     "data": {
      "image/png": "[encoded data removed]",
      "text/plain": [
       "<matplotlib.figure.Figure at 0x7fdf8557e4a8>"
      ]
     },
     "metadata": {},
     "output_type": "display_data"
    }
   ],
   "source": [
    "mpl.plot_date(x=df.FECHA, y=df.TEMP, fmt=\"b-\")\n",
    "mpl.title(\"Variación de la Temperatura\")\n",
    "mpl.ylabel(\"Temp ºC\")\n",
    "mpl.grid(True)\n",
    "mpl.show()"
   ]
  },
  {
   "cell_type": "code",
   "execution_count": 32,
   "metadata": {},
   "outputs": [
    {
     "data": {
      "image/png": "[encoded data removed]",
      "text/plain": [
       "<matplotlib.figure.Figure at 0x7fdf8ca49908>"
      ]
     },
     "metadata": {},
     "output_type": "display_data"
    }
   ],
   "source": [
    "df2 = df[['VELS','VELR']]\n",
    "mpl.plot_date(x=df.FECHA, y=df2, fmt=\"rp-\")\n",
    "mpl.xlim( '27/01/2018 00:00', '27/01/2018 23:00')\n",
    "mpl.title(\"Vel. de Vientos Vs. Vel. de Ráfagas\")\n",
    "mpl.ylabel(\"VELS/VELR\")\n",
    "mpl.xlabel(\"Tiempo\")\n",
    "mpl.grid(True)\n",
    "mpl.show()"
   ]
  },
  {
   "cell_type": "code",
   "execution_count": 17,
   "metadata": {},
   "outputs": [
    {
     "data": {
      "image/png": "[encoded data removed]",
      "text/plain": [
       "<matplotlib.figure.Figure at 0x7fdf85812fd0>"
      ]
     },
     "metadata": {},
     "output_type": "display_data"
    }
   ],
   "source": [
    "mpl.plot_date(x=df.FECHA, y=df.DIRS, fmt=\"ys-\")\n",
    "mpl.xlim( '27/01/2018 00:00', '27/01/2018 23:00')\n",
    "mpl.title(\"Dirección de los Vientos/Tiempo\")\n",
    "mpl.ylabel(\"Dirección de los Vientos\")\n",
    "mpl.xlabel(\"Tiempo\")\n",
    "mpl.grid(True)\n",
    "mpl.show()"
   ]
  },
  {
   "cell_type": "code",
   "execution_count": 18,
   "metadata": {},
   "outputs": [
    {
     "data": {
      "image/png": "[encoded data removed]",
      "text/plain": [
       "<matplotlib.figure.Figure at 0x7fdf8582f2e8>"
      ]
     },
     "metadata": {},
     "output_type": "display_data"
    }
   ],
   "source": [
    "mpl.plot_date(x=df.FECHA, y=df.RADSOL , fmt=(\"m^-\"))\n",
    "mpl.xlim( '27/01/2018 00:00', '27/01/2018 23:00')\n",
    "mpl.title(\"Radiación Solar/Tiempo\")\n",
    "mpl.ylabel(\"Radiación Solar\")\n",
    "mpl.xlabel(\"Tiempo\")\n",
    "mpl.grid(True)\n",
    "mpl.show()"
   ]
  },
  {
   "cell_type": "code",
   "execution_count": 19,
   "metadata": {},
   "outputs": [
    {
     "data": {
      "text/plain": [
       "count    165.000000\n",
       "mean       9.957576\n",
       "std        4.438209\n",
       "min        0.900000\n",
       "25%        6.200000\n",
       "50%       10.200000\n",
       "75%       12.300000\n",
       "max       23.900000\n",
       "Name: TEMP, dtype: float64"
      ]
     },
     "execution_count": 19,
     "metadata": {},
     "output_type": "execute_result"
    }
   ],
   "source": [
    "df.TEMP.describe()"
   ]
  },
  {
   "cell_type": "code",
   "execution_count": 20,
   "metadata": {},
   "outputs": [
    {
     "data": {
      "text/plain": [
       "23.0"
      ]
     },
     "execution_count": 20,
     "metadata": {},
     "output_type": "execute_result"
    }
   ],
   "source": [
    "df.TEMP.max()-df.TEMP.min()"
   ]
  },
  {
   "cell_type": "code",
   "execution_count": 26,
   "metadata": {},
   "outputs": [
    {
     "data": {
      "text/plain": [
       "<matplotlib.figure.Figure at 0x7fdf85559b70>"
      ]
     },
     "metadata": {},
     "output_type": "display_data"
    },
    {
     "data": {
      "image/png": "[encoded data removed]",
      "text/plain": [
       "<matplotlib.figure.Figure at 0x7fdf85407b00>"
      ]
     },
     "metadata": {},
     "output_type": "display_data"
    }
   ],
   "source": [
    "df4 = df[['TEMP','HR']]\n",
    "mpl.figure(); df4.plot(); mpl.legend(loc='best',fmt=)\n",
    "mpl.title(\"Variación de la Temperatura y la Humedad Relativa\")\n",
    "mpl.ylabel(\"Temp ºC /(%) HR\")\n",
    "mpl.grid(True)\n",
    "mpl.show()"
   ]
  },
  {
   "cell_type": "code",
   "execution_count": 33,
   "metadata": {},
   "outputs": [
    {
     "data": {
      "text/html": [
       "<div>\n",
       "<style>\n",
       "    .dataframe thead tr:only-child th {\n",
       "        text-align: right;\n",
       "    }\n",
       "\n",
       "    .dataframe thead th {\n",
       "        text-align: left;\n",
       "    }\n",
       "\n",
       "    .dataframe tbody tr th {\n",
       "        vertical-align: top;\n",
       "    }\n",
       "</style>\n",
       "<table border=\"1\" class=\"dataframe\">\n",
       "  <thead>\n",
       "    <tr style=\"text-align: right;\">\n",
       "      <th></th>\n",
       "      <th>DIRS</th>\n",
       "      <th>DIRR</th>\n",
       "      <th>VELS</th>\n",
       "      <th>VELR</th>\n",
       "      <th>TEMP</th>\n",
       "      <th>HR</th>\n",
       "      <th>PB</th>\n",
       "      <th>PREC</th>\n",
       "      <th>RADSOL</th>\n",
       "    </tr>\n",
       "  </thead>\n",
       "  <tbody>\n",
       "    <tr>\n",
       "      <th>count</th>\n",
       "      <td>165.000000</td>\n",
       "      <td>165.000000</td>\n",
       "      <td>165.000000</td>\n",
       "      <td>165.000000</td>\n",
       "      <td>165.000000</td>\n",
       "      <td>165.000000</td>\n",
       "      <td>165.000000</td>\n",
       "      <td>165.000000</td>\n",
       "      <td>165.000000</td>\n",
       "    </tr>\n",
       "    <tr>\n",
       "      <th>mean</th>\n",
       "      <td>175.048485</td>\n",
       "      <td>265.593939</td>\n",
       "      <td>3.401333</td>\n",
       "      <td>10.003636</td>\n",
       "      <td>9.957576</td>\n",
       "      <td>94.775758</td>\n",
       "      <td>851.640606</td>\n",
       "      <td>0.935758</td>\n",
       "      <td>105.226667</td>\n",
       "    </tr>\n",
       "    <tr>\n",
       "      <th>std</th>\n",
       "      <td>133.732843</td>\n",
       "      <td>105.569761</td>\n",
       "      <td>2.493261</td>\n",
       "      <td>6.068802</td>\n",
       "      <td>4.438209</td>\n",
       "      <td>12.471114</td>\n",
       "      <td>2.999591</td>\n",
       "      <td>2.349778</td>\n",
       "      <td>199.403468</td>\n",
       "    </tr>\n",
       "    <tr>\n",
       "      <th>min</th>\n",
       "      <td>0.000000</td>\n",
       "      <td>25.000000</td>\n",
       "      <td>0.140000</td>\n",
       "      <td>2.400000</td>\n",
       "      <td>0.900000</td>\n",
       "      <td>41.000000</td>\n",
       "      <td>847.400000</td>\n",
       "      <td>0.000000</td>\n",
       "      <td>0.000000</td>\n",
       "    </tr>\n",
       "    <tr>\n",
       "      <th>25%</th>\n",
       "      <td>24.000000</td>\n",
       "      <td>216.000000</td>\n",
       "      <td>1.380000</td>\n",
       "      <td>5.000000</td>\n",
       "      <td>6.200000</td>\n",
       "      <td>98.000000</td>\n",
       "      <td>849.400000</td>\n",
       "      <td>0.000000</td>\n",
       "      <td>0.000000</td>\n",
       "    </tr>\n",
       "    <tr>\n",
       "      <th>50%</th>\n",
       "      <td>194.000000</td>\n",
       "      <td>319.000000</td>\n",
       "      <td>2.570000</td>\n",
       "      <td>8.100000</td>\n",
       "      <td>10.200000</td>\n",
       "      <td>100.000000</td>\n",
       "      <td>850.700000</td>\n",
       "      <td>0.000000</td>\n",
       "      <td>0.000000</td>\n",
       "    </tr>\n",
       "    <tr>\n",
       "      <th>75%</th>\n",
       "      <td>309.000000</td>\n",
       "      <td>358.000000</td>\n",
       "      <td>4.970000</td>\n",
       "      <td>14.200000</td>\n",
       "      <td>12.300000</td>\n",
       "      <td>100.000000</td>\n",
       "      <td>853.400000</td>\n",
       "      <td>0.000000</td>\n",
       "      <td>122.000000</td>\n",
       "    </tr>\n",
       "    <tr>\n",
       "      <th>max</th>\n",
       "      <td>358.000000</td>\n",
       "      <td>360.000000</td>\n",
       "      <td>12.450000</td>\n",
       "      <td>27.500000</td>\n",
       "      <td>23.900000</td>\n",
       "      <td>100.000000</td>\n",
       "      <td>859.200000</td>\n",
       "      <td>12.800000</td>\n",
       "      <td>881.300000</td>\n",
       "    </tr>\n",
       "  </tbody>\n",
       "</table>\n",
       "</div>"
      ],
      "text/plain": [
       "             DIRS        DIRR        VELS        VELR        TEMP          HR  \\\n",
       "count  165.000000  165.000000  165.000000  165.000000  165.000000  165.000000   \n",
       "mean   175.048485  265.593939    3.401333   10.003636    9.957576   94.775758   \n",
       "std    133.732843  105.569761    2.493261    6.068802    4.438209   12.471114   \n",
       "min      0.000000   25.000000    0.140000    2.400000    0.900000   41.000000   \n",
       "25%     24.000000  216.000000    1.380000    5.000000    6.200000   98.000000   \n",
       "50%    194.000000  319.000000    2.570000    8.100000   10.200000  100.000000   \n",
       "75%    309.000000  358.000000    4.970000   14.200000   12.300000  100.000000   \n",
       "max    358.000000  360.000000   12.450000   27.500000   23.900000  100.000000   \n",
       "\n",
       "               PB        PREC      RADSOL  \n",
       "count  165.000000  165.000000  165.000000  \n",
       "mean   851.640606    0.935758  105.226667  \n",
       "std      2.999591    2.349778  199.403468  \n",
       "min    847.400000    0.000000    0.000000  \n",
       "25%    849.400000    0.000000    0.000000  \n",
       "50%    850.700000    0.000000    0.000000  \n",
       "75%    853.400000    0.000000  122.000000  \n",
       "max    859.200000   12.800000  881.300000  "
      ]
     },
     "execution_count": 33,
     "metadata": {},
     "output_type": "execute_result"
    }
   ],
   "source": [
    "df.describe()"
   ]
  },
  {
   "cell_type": "code",
   "execution_count": null,
   "metadata": {
    "collapsed": true
   },
   "outputs": [],
   "source": []
  }
 ],
 "metadata": {
  "kernelspec": {
   "display_name": "Python 3",
   "language": "python",
   "name": "python3"
  },
  "language_info": {
   "codemirror_mode": {
    "name": "ipython",
    "version": 3
   },
   "file_extension": ".py",
   "mimetype": "text/x-python",
   "name": "python",
   "nbconvert_exporter": "python",
   "pygments_lexer": "ipython3",
   "version": "3.6.3"
  }
 },
 "nbformat": 4,
 "nbformat_minor": 2
}
